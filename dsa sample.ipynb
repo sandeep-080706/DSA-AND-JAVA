{
 "cells": [
  {
   "cell_type": "markdown",
   "id": "9c31ba72-d592-4296-89e3-c68fb95acd73",
   "metadata": {},
   "source": [
    "# <p align=\"center\">DATA STRUCTURES AND ALGORITHMS</p> \n",
    "# OBJECT-ORIENTED PROGRAMING SYSTEM\n",
    "## <p align=\"centre\">Course Code: 22AIE111</p>\n",
    "## <p align=\"center\">Course Code: 22AIE112</p>  "
   ]
  },
  {
   "cell_type": "markdown",
   "id": "26b1b17f-b965-465a-8f94-eecdb71262d1",
   "metadata": {},
   "source": [
    "# Logistics Package Tracking System"
   ]
  },
  {
   "cell_type": "markdown",
   "id": "22628d70-ac0c-4e78-a28e-4c27faea8078",
   "metadata": {},
   "source": [
    "## INTRODUCTION:\n",
    "\n",
    "1. A **good package tracking system** is essential due to the growing demand for **efficient delivery services**.\n",
    "2. **Traditional methods** struggle with tracking **shipment history** and **prioritizing deliveries**.\n",
    "3. **Linked lists** allow shipment records to be **stored and accessed easily**.\n",
    "4. **Priority queues** help in **scheduling deliveries** based on **urgency**.\n",
    "5. **Real-time tracking** enhances **shipment visibility**.\n",
    "\n",
    "This project aims to develop a **smart system** to improve **logistics operations**."
   ]
  },
  {
   "cell_type": "markdown",
   "id": "cad08a01-4561-4465-81fb-092f8df8e305",
   "metadata": {},
   "source": [
    "# PRIORITY QUEUE \n",
    "\n",
    "## Priority Queue\n",
    "\n",
    "A Priority Queue is a special type of queue where each element has a priority assigned to it. Instead of following the First-In-First-Out (FIFO) rule like a normal queue, elements with higher priority are processed first.\n",
    "\n",
    "### Key Features of a Priority Queue:\n",
    "1) **Elements have priorities** – Each item in the queue is assigned a priority.\n",
    "2) **Higher priority elements are served first** – If two elements have the same priority, they follow FIFO order.\n",
    "3) **Efficient scheduling** – Used in CPU scheduling, networking, and logistics management.\n",
    "\n",
    "### Implementation Methods:\n",
    "- **Using a Binary Heap** (Most common, O(logn) operations)\n",
    "- **Using a Sorted List** (Fast removal but slow insertion)\n",
    "- **Using a Self-Balancing BST** (Efficient for dynamic operations)\n",
    "\n",
    "---\n",
    "\n",
    "## LINKED LIST\n",
    "\n",
    "A Linked List is a linear data structure where elements (nodes) are connected using pointers. Unlike arrays, linked lists do not store elements in contiguous memory locations.\n",
    "\n",
    "### Key Features of a Linked List:\n",
    "1) **Dynamic Size** – Can grow or shrink easily without memory wastage.\n",
    "2) **Efficient Insertions & Deletions** – Adding/removing elements is faster than arrays (no shifting required).\n",
    "3) **Uses Pointers** – Each node stores data and a pointer to the next node.\n",
    "\n",
    "### Types of Linked Lists:\n",
    "- **Singly Linked List** – Each node points to the next node only.\n",
    "- **Doubly Linked List** – Each node points to both the previous and next nodes.\n",
    "- **Circular Linked List** – The last node connects back to the first node.\n",
    "\n",
    "---\n",
    "\n",
    "# Project Goals\n",
    "\n",
    "1. *Efficient Package Management* – Store and track package details effectively.  \n",
    "2. *Shipment History Tracking* – Maintain a log of package status updates.  \n",
    "3. *Priority-Based Delivery* – Ensure high-priority packages are delivered first.  \n",
    "4. *Real-Time Package Status* – Allow users to check package delivery status anytime.  \n",
    "5. *Simple & Scalable Design* – Easy to understand and extend in the future.\n"
   ]
  },
  {
   "cell_type": "markdown",
   "id": "1a134f8f-ca47-4677-8b47-88509f57ccf5",
   "metadata": {},
   "source": [
    "# Functions and Methods\n",
    "\n",
    "## ShipmentNode Class\n",
    "- `__init__(self, status, timestamp)` – Initializes a shipment status node.\n",
    "\n",
    "---\n",
    "\n",
    "## ShipmentHistory Class\n",
    "- `__init__(self)` – Initializes the linked list for shipment history.\n",
    "- `add_status(self, status, timestamp)` – Adds a new status update node.\n",
    "- `get_history(self)` – Retrieves the entire shipment history.\n",
    "\n",
    "---\n",
    "\n",
    "## Package Class\n",
    "- `__init__(self, tracking_id, destination, priority)` – Initializes a package with tracking details.\n",
    "- `update_status(self, status, timestamp)` – Updates the shipment status.\n",
    "- `get_tracking_info(self)` – Returns the package tracking details.\n",
    "\n",
    "---\n",
    "\n",
    "## PriorityQueue Class\n",
    "- `__init__(self)` – Initializes the priority queue.\n",
    "- `add_package(self, package)` – Adds a package to the priority queue.\n",
    "- `dispatch_package(self)` – Removes and returns the highest-priority package.\n",
    "- `get_pending_packages(self)` – Returns a list of pending package tracking IDs.\n",
    "\n",
    "---\n",
    "\n",
    "## LogisticsSystem Class\n",
    "- `__init__(self)` – Initializes the logistics system.\n",
    "- `add_package(self, tracking_id, destination, priority)` – Adds a new package and queues it for delivery.\n",
    "- `update_package_status(self, tracking_id, status, timestamp)` – Updates the status of an existing package.\n",
    "- `track_package(self, tracking_id)` – Retrieves package tracking information.\n",
    "- `dispatch_next_package(self)` – Dispatches the next highest-priority package.\n"
   ]
  },
  {
   "cell_type": "code",
   "execution_count": 1,
   "id": "11c9a457-2907-410c-8ea7-eb30c4977c5f",
   "metadata": {},
   "outputs": [],
   "source": [
    "import heapq\n",
    "\n",
    "class ShipmentNode:\n",
    "    def __init__(self, status, location, timestamp):\n",
    "        self.status = status\n",
    "        self.location = location\n",
    "        self.timestamp = timestamp\n",
    "        self.next = None\n"
   ]
  },
  {
   "cell_type": "markdown",
   "id": "58a1c84d-3216-49ac-8620-5646a0dd77d3",
   "metadata": {},
   "source": [
    "### It stores shipment details such as:\n",
    "- **status** → The current status of the package (e.g., \"Shipped\", \"In Transit\").\n",
    "- **location** → The location of the package at this update.\n",
    "- **timestamp** → The time at which this update was recorded.\n",
    "\n",
    "### Linked List Structure\n",
    "- It has a next pointer to link to the next shipment update, forming a **Singly Linked List**.\n",
    "\n",
    "## Data Structure Used\n",
    "The ShipmentNode class is part of a **Singly Linked List**, implemented through the `ShipmentHistory` class.\n",
    "\n",
    "### Why Linked List?\n",
    "- Each package can have multiple status updates, and a **linked list** allows **efficient insertions** at the end.\n",
    "- It maintains a **dynamic list** of updates without needing a fixed size (unlike an array).\n",
    "- Traversal through shipment history is simple using the `next` pointer."
   ]
  },
  {
   "cell_type": "code",
   "execution_count": null,
   "id": "f4cbdeee-6605-4fb6-b91d-134e472340a7",
   "metadata": {},
   "outputs": [],
   "source": [
    "class ShipmentHistory:\n",
    "    def __init__(self):\n",
    "        self.head = None"
   ]
  },
  {
   "cell_type": "code",
   "execution_count": 3,
   "id": "5f8c89cc-382a-41e9-8292-7f70369588a9",
   "metadata": {},
   "outputs": [],
   "source": [
    "def add_shipment_update(self, status, location, timestamp):\n",
    "    new_node = ShipmentNode(status, location, timestamp)\n",
    "    if not self.head:\n",
    "        self.head = new_node\n",
    "    else:\n",
    "        temp = self.head\n",
    "        while temp.next:\n",
    "            temp = temp.next\n",
    "        temp.next = new_node\n"
   ]
  },
  {
   "cell_type": "markdown",
   "id": "837b7bc6-d33f-4101-bfe2-d4dfc621da09",
   "metadata": {},
   "source": [
    "## How add_shipment_update() Works:\n",
    "1. A **new node** is created using ShipmentNode(status, location, timestamp).\n",
    "2. If the **linked list is empty** (self.head is None), the **new node becomes the head**.\n",
    "3. Otherwise, it **traverses** to the last node and adds the new node at the end.\n"
   ]
  },
  {
   "cell_type": "code",
   "execution_count": 6,
   "id": "e90a65d5-2a93-4cae-a38e-5c26037df128",
   "metadata": {},
   "outputs": [],
   "source": [
    "def get_shipment_history(self):\n",
    "    history = []\n",
    "    temp = self.head\n",
    "    while temp:\n",
    "        history.append((temp.status, temp.location, temp.timestamp))\n",
    "        temp = temp.next\n",
    "    return history\n"
   ]
  },
  {
   "cell_type": "markdown",
   "id": "06b794f5-41c6-4f0d-9817-285a6bb68c56",
   "metadata": {},
   "source": [
    "## How get_shipment_history() Works:\n",
    "1. **Starts from** self.head and **traverses** the linked list.\n",
    "2. **Collects** each node’s (status, location, timestamp) into the history list.\n",
    "3. **Returns** the shipment history as a **list of tuples**.\n"
   ]
  },
  {
   "cell_type": "code",
   "execution_count": null,
   "id": "e61d3bf5-6866-4f34-8e65-d14bd58d053e",
   "metadata": {},
   "outputs": [],
   "source": []
  }
 ],
 "metadata": {
  "kernelspec": {
   "display_name": "Python [conda env:base] *",
   "language": "python",
   "name": "conda-base-py"
  },
  "language_info": {
   "codemirror_mode": {
    "name": "ipython",
    "version": 3
   },
   "file_extension": ".py",
   "mimetype": "text/x-python",
   "name": "python",
   "nbconvert_exporter": "python",
   "pygments_lexer": "ipython3",
   "version": "3.12.7"
  }
 },
 "nbformat": 4,
 "nbformat_minor": 5
}
